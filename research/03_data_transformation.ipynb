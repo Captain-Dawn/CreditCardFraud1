{
 "cells": [
  {
   "cell_type": "code",
   "execution_count": 2,
   "metadata": {},
   "outputs": [],
   "source": [
    "import os"
   ]
  },
  {
   "cell_type": "code",
   "execution_count": 3,
   "metadata": {},
   "outputs": [
    {
     "data": {
      "text/plain": [
       "'d:\\\\Python\\\\MLProjectsPW\\\\CreditCardFraud1\\\\research'"
      ]
     },
     "execution_count": 3,
     "metadata": {},
     "output_type": "execute_result"
    }
   ],
   "source": [
    "%pwd"
   ]
  },
  {
   "cell_type": "code",
   "execution_count": 4,
   "metadata": {},
   "outputs": [],
   "source": [
    "os.chdir(\"../\")"
   ]
  },
  {
   "cell_type": "code",
   "execution_count": 5,
   "metadata": {},
   "outputs": [
    {
     "data": {
      "text/plain": [
       "'d:\\\\Python\\\\MLProjectsPW\\\\CreditCardFraud1'"
      ]
     },
     "execution_count": 5,
     "metadata": {},
     "output_type": "execute_result"
    }
   ],
   "source": [
    "%pwd"
   ]
  },
  {
   "cell_type": "code",
   "execution_count": 6,
   "metadata": {},
   "outputs": [],
   "source": [
    "from dataclasses import dataclass\n",
    "from pathlib import Path\n",
    "\n",
    "@dataclass(frozen=True)\n",
    "class DataTransformationConfig:\n",
    "    root_dir:Path\n",
    "    data_path:Path"
   ]
  },
  {
   "cell_type": "code",
   "execution_count": 7,
   "metadata": {},
   "outputs": [],
   "source": [
    "from CreditCardFraud.constants import *\n",
    "from CreditCardFraud.utils.common import read_yaml , create_directories"
   ]
  },
  {
   "cell_type": "code",
   "execution_count": 8,
   "metadata": {},
   "outputs": [],
   "source": [
    "class ConfigurationManager:\n",
    "    def __init__(\n",
    "        self,\n",
    "        config_filepath = CONFIG_FILE_PATH,\n",
    "        params_filepath = PARAMS_FILE_PATH):\n",
    "        self.config = read_yaml (config_filepath)\n",
    "        self.params = read_yaml (params_filepath)\n",
    "\n",
    "        create_directories([self.config.artifacts_root])\n",
    "\n",
    "    def get_data_transformation_config(self) ->  DataTransformationConfig:\n",
    "        config = self.config.data_transformation\n",
    "        \n",
    "        create_directories([config.root_dir])\n",
    "\n",
    "        data_transformation_config = DataTransformationConfig(\n",
    "            root_dir=config.root_dir,\n",
    "            data_path=config.data_path\n",
    "        )\n",
    "\n",
    "        return data_transformation_config\n"
   ]
  },
  {
   "cell_type": "code",
   "execution_count": 25,
   "metadata": {},
   "outputs": [],
   "source": [
    "import os\n",
    "from CreditCardFraud.logging import logger\n",
    "import pandas as pd\n",
    "import numpy as np\n",
    "from sklearn.model_selection import train_test_split\n",
    "from sklearn.pipeline import Pipeline\n",
    "from sklearn.impute import SimpleImputer\n",
    "from sklearn.preprocessing import StandardScaler\n",
    "from sklearn.compose import ColumnTransformer\n",
    "import joblib"
   ]
  },
  {
   "cell_type": "code",
   "execution_count": 42,
   "metadata": {},
   "outputs": [],
   "source": [
    "class DataTransformation:\n",
    "    def __init__(self, config = DataTransformationConfig):\n",
    "        self.config = config\n",
    "    \n",
    "    def train_test_splitting(self):\n",
    "        data = pd.read_csv(self.config.data_path)\n",
    "\n",
    "        train , test = train_test_split(data, random_state=0)\n",
    "        return train , test\n",
    "    \n",
    "    def transforming(self,train,test):\n",
    "        target = 'default payment next month'\n",
    "        X_train = train.drop(target,axis=1)\n",
    "        y_train = train[target]\n",
    "        X_test = test.drop(target,axis=1)\n",
    "        y_test = test[target]\n",
    "\n",
    "        numerical_cols = X_train.columns\n",
    "        \n",
    "        numerical_pipeline = Pipeline(\n",
    "                steps=[\n",
    "                    ('imputer',SimpleImputer(strategy='median')),\n",
    "                    ('scaler', StandardScaler())\n",
    "                ]\n",
    "            )\n",
    "        \n",
    "        preprocessor = ColumnTransformer([\n",
    "                ('numerical_pipeline',numerical_pipeline , numerical_cols)\n",
    "            ])\n",
    "        \n",
    "        X_train_arr = preprocessor.fit_transform(X_train)\n",
    "        X_test_arr = preprocessor.transform(X_test)\n",
    "\n",
    "        train_data = pd.DataFrame(np.c_[X_train_arr,y_train],columns=train.columns)\n",
    "        test_data = pd.DataFrame(np.c_[X_test_arr,y_test],columns=test.columns)\n",
    "    \n",
    "        train_data.to_csv(os.path.join(self.config.root_dir , \"train.csv\"),index=False)\n",
    "        test_data.to_csv(os.path.join(self.config.root_dir, \"test.csv\"),index=False)    \n",
    "\n",
    "\n",
    "\n",
    "        logger.info(\"Data Transformation Completed\")\n",
    "\n",
    "        logger.info(f\"\"\"The shape of the training data is {train_data.shape},\n",
    "                    the shape of the testing data is {test_data.shape}\"\"\")\n",
    "        preprocessor_path = Path(os.path.join(self.config.root_dir, \"preprocessor.joblib\"))\n",
    "        joblib.dump(value=preprocessor ,filename = preprocessor_path)\n",
    "        logger.info(f\"The preprocessor was saved at {preprocessor_path}\")\n"
   ]
  },
  {
   "cell_type": "code",
   "execution_count": 43,
   "metadata": {},
   "outputs": [
    {
     "name": "stdout",
     "output_type": "stream",
     "text": [
      "[2023-08-07 19:55:16,796: INFO: common: yaml file: config\\config.yaml loaded successfully]\n",
      "[2023-08-07 19:55:16,798: INFO: common: yaml file: params.yaml loaded successfully]\n",
      "[2023-08-07 19:55:16,800: INFO: common: creating directory at: artifacts]\n",
      "[2023-08-07 19:55:16,802: INFO: common: creating directory at: artifacts/data_transformation]\n",
      "[2023-08-07 19:55:16,877: INFO: 1190343841: Data Transformation Completed]\n",
      "[2023-08-07 19:55:16,880: INFO: 1190343841: The shape of the training data is (750, 24),\n",
      "                    the shape of the testing data is (251, 24)]\n",
      "[2023-08-07 19:55:16,887: INFO: 1190343841: The preprocessor was saved at artifacts\\data_transformation\\preprocessor.joblib]\n"
     ]
    }
   ],
   "source": [
    "try:\n",
    "    config = ConfigurationManager()\n",
    "    data_transformation_config = config.get_data_transformation_config()\n",
    "    data_transformation = DataTransformation(config=data_transformation_config)\n",
    "    train , test = data_transformation.train_test_splitting()\n",
    "    data_transformation.transforming(train , test)\n",
    "except Exception as e:\n",
    "    raise e"
   ]
  }
 ],
 "metadata": {
  "kernelspec": {
   "display_name": "Python 3",
   "language": "python",
   "name": "python3"
  },
  "language_info": {
   "codemirror_mode": {
    "name": "ipython",
    "version": 3
   },
   "file_extension": ".py",
   "mimetype": "text/x-python",
   "name": "python",
   "nbconvert_exporter": "python",
   "pygments_lexer": "ipython3",
   "version": "3.9.0"
  },
  "orig_nbformat": 4
 },
 "nbformat": 4,
 "nbformat_minor": 2
}
