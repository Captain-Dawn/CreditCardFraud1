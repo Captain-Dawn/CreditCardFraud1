{
 "cells": [
  {
   "cell_type": "code",
   "execution_count": 1,
   "metadata": {
    "ExecuteTime": {
     "end_time": "2023-08-11T14:18:33.752584100Z",
     "start_time": "2023-08-11T14:18:33.610582600Z"
    }
   },
   "outputs": [],
   "source": [
    "import os"
   ]
  },
  {
   "cell_type": "code",
   "execution_count": 2,
   "metadata": {
    "ExecuteTime": {
     "end_time": "2023-08-11T14:18:33.781028900Z",
     "start_time": "2023-08-11T14:18:33.626791100Z"
    }
   },
   "outputs": [
    {
     "data": {
      "text/plain": "'D:\\\\Python\\\\MLProjectsPW\\\\CreditCardFraud1\\\\research'"
     },
     "execution_count": 2,
     "metadata": {},
     "output_type": "execute_result"
    }
   ],
   "source": [
    "%pwd"
   ]
  },
  {
   "cell_type": "code",
   "execution_count": 3,
   "metadata": {
    "ExecuteTime": {
     "end_time": "2023-08-11T14:18:33.782029400Z",
     "start_time": "2023-08-11T14:18:33.654186800Z"
    }
   },
   "outputs": [],
   "source": [
    "os.chdir(\"../\")"
   ]
  },
  {
   "cell_type": "code",
   "execution_count": 4,
   "metadata": {
    "ExecuteTime": {
     "end_time": "2023-08-11T14:18:33.785190500Z",
     "start_time": "2023-08-11T14:18:33.673336600Z"
    }
   },
   "outputs": [
    {
     "data": {
      "text/plain": "'D:\\\\Python\\\\MLProjectsPW\\\\CreditCardFraud1'"
     },
     "execution_count": 4,
     "metadata": {},
     "output_type": "execute_result"
    }
   ],
   "source": [
    "%pwd"
   ]
  },
  {
   "cell_type": "code",
   "execution_count": 5,
   "metadata": {
    "ExecuteTime": {
     "end_time": "2023-08-11T14:18:33.786189100Z",
     "start_time": "2023-08-11T14:18:33.687584300Z"
    }
   },
   "outputs": [],
   "source": [
    "from dataclasses import dataclass\n",
    "from pathlib import Path\n",
    "\n",
    "@dataclass(frozen=True)\n",
    "class DataIngestionConfig:\n",
    "    root_dir:Path\n",
    "    local_data_file:Path    "
   ]
  },
  {
   "cell_type": "code",
   "execution_count": 6,
   "metadata": {
    "ExecuteTime": {
     "end_time": "2023-08-11T14:18:35.268104600Z",
     "start_time": "2023-08-11T14:18:33.714969200Z"
    }
   },
   "outputs": [],
   "source": [
    "from CreditCardFraud.constants import *\n",
    "from CreditCardFraud.utils.common import read_yaml , create_directories"
   ]
  },
  {
   "cell_type": "code",
   "execution_count": 7,
   "metadata": {
    "ExecuteTime": {
     "end_time": "2023-08-11T14:18:35.285262800Z",
     "start_time": "2023-08-11T14:18:35.274173600Z"
    }
   },
   "outputs": [],
   "source": [
    "class ConfigurationManager:\n",
    "    def __init__(self,\n",
    "                 config_filepath = CONFIG_FILE_PATH,\n",
    "                 params_filepath = PARAMS_FILE_PATH):\n",
    "        self.config = read_yaml(config_filepath)\n",
    "        self.params = read_yaml(params_filepath)\n",
    "\n",
    "        create_directories([self.config.artifacts_root])\n",
    "\n",
    "    def get_data_ingestion_config(self)->DataIngestionConfig:\n",
    "        config = self.config.data_ingestion\n",
    "\n",
    "        create_directories([config.root_dir])\n",
    "\n",
    "        data_ingestion_config = DataIngestionConfig(\n",
    "            root_dir = config.root_dir,\n",
    "            local_data_file= config.local_data_file\n",
    "        )\n",
    "\n",
    "        return data_ingestion_config\n"
   ]
  },
  {
   "cell_type": "code",
   "execution_count": 8,
   "metadata": {
    "ExecuteTime": {
     "end_time": "2023-08-11T14:18:35.335262700Z",
     "start_time": "2023-08-11T14:18:35.286261500Z"
    }
   },
   "outputs": [],
   "source": [
    "from CreditCardFraud.logging import logger\n",
    "from CreditCardFraud.utils.common import get_size\n",
    "from dotenv import load_dotenv\n",
    "from pymongo import MongoClient\n",
    "import pandas as pd"
   ]
  },
  {
   "cell_type": "code",
   "execution_count": 9,
   "metadata": {
    "ExecuteTime": {
     "end_time": "2023-08-11T14:18:35.353264600Z",
     "start_time": "2023-08-11T14:18:35.325261500Z"
    }
   },
   "outputs": [],
   "source": [
    "class DataIngestion:\n",
    "    def __init__(self,config:DataIngestionConfig):\n",
    "        self.config = config\n",
    "        \n",
    "    def download_file(self):\n",
    "        if not os.path.exists(self.config.local_data_file):\n",
    "            load_dotenv()\n",
    "            filename = self.config.local_data_file\n",
    "            mongo_client_con_string =  os.getenv(\"pymongo_url\")\n",
    "            database_name ='demoDB'\n",
    "            collection_name = 'CreditCardFraud'\n",
    "\n",
    "            myclient = MongoClient(mongo_client_con_string)\n",
    "            mydb = myclient[database_name]\n",
    "            mycol = mydb[collection_name]\n",
    "\n",
    "\n",
    "            mongo_docs = list(mycol.find())\n",
    "            data = pd.DataFrame(mongo_docs)\n",
    "            data.sort_values('_id').reset_index(drop=True).iloc[:,1:].to_csv(filename,index=False)\n",
    "            logger.info(f\"{filename} downloaded!\")\n",
    "        else:\n",
    "            logger.info(f\"file already exists of size: {get_size(Path(self.config.local_data_file))}\")"
   ]
  },
  {
   "cell_type": "code",
   "execution_count": 10,
   "metadata": {
    "ExecuteTime": {
     "end_time": "2023-08-11T14:18:35.415181900Z",
     "start_time": "2023-08-11T14:18:35.352266200Z"
    }
   },
   "outputs": [
    {
     "name": "stdout",
     "output_type": "stream",
     "text": [
      "[2023-08-11 19:48:35,358: INFO: common: yaml file: config\\config.yaml loaded successfully]\n",
      "[2023-08-11 19:48:35,367: INFO: common: yaml file: params.yaml loaded successfully]\n",
      "[2023-08-11 19:48:35,370: INFO: common: creating directory at: artifacts]\n",
      "[2023-08-11 19:48:35,373: INFO: common: creating directory at: artifacts/data_ingestion]\n",
      "[2023-08-11 19:48:35,375: INFO: 2304682800: file already exists of size: ~88 KB]\n"
     ]
    }
   ],
   "source": [
    "try:\n",
    "    config  = ConfigurationManager()\n",
    "    data_ingestion_config = config.get_data_ingestion_config()\n",
    "    data_ingestion = DataIngestion(config=data_ingestion_config)\n",
    "    data_ingestion.download_file()\n",
    "except Exception as e:\n",
    "    raise e"
   ]
  }
 ],
 "metadata": {
  "kernelspec": {
   "display_name": "Python 3",
   "language": "python",
   "name": "python3"
  },
  "language_info": {
   "codemirror_mode": {
    "name": "ipython",
    "version": 3
   },
   "file_extension": ".py",
   "mimetype": "text/x-python",
   "name": "python",
   "nbconvert_exporter": "python",
   "pygments_lexer": "ipython3",
   "version": "3.9.0"
  },
  "orig_nbformat": 4
 },
 "nbformat": 4,
 "nbformat_minor": 2
}
