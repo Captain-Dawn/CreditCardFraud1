{
 "cells": [
  {
   "cell_type": "code",
   "execution_count": 1,
   "metadata": {},
   "outputs": [],
   "source": [
    "import pandas as pd\n",
    "import numpy as np\n",
    "import seaborn as sns\n",
    "import warnings\n",
    "warnings.filterwarnings('ignore')\n",
    "import matplotlib.pyplot as plt\n",
    "%matplotlib inline"
   ]
  },
  {
   "cell_type": "code",
   "execution_count": 2,
   "metadata": {},
   "outputs": [],
   "source": [
    "df = pd.read_csv(r'D:\\Python\\MLProjectsPW\\CreditCardFraud1\\notebooks\\data\\creditcard.csv')"
   ]
  },
  {
   "cell_type": "code",
   "execution_count": 3,
   "metadata": {},
   "outputs": [],
   "source": [
    "#separate into independent and dependent features\n",
    "X = df.drop('Class',axis=1)\n",
    "y = df['Class']"
   ]
  },
  {
   "cell_type": "code",
   "execution_count": 4,
   "metadata": {},
   "outputs": [],
   "source": [
    "#rectifying target imbalance\n",
    "from imblearn.over_sampling import SMOTE\n",
    "resampler = SMOTE(random_state=42)\n",
    "X , y = resampler.fit_resample(X, y)"
   ]
  },
  {
   "cell_type": "code",
   "execution_count": 5,
   "metadata": {},
   "outputs": [
    {
     "data": {
      "text/plain": [
       "((284315, 30), (284315, 30))"
      ]
     },
     "execution_count": 5,
     "metadata": {},
     "output_type": "execute_result"
    }
   ],
   "source": [
    "X[y==1].shape , X[y==0].shape"
   ]
  },
  {
   "cell_type": "code",
   "execution_count": 6,
   "metadata": {},
   "outputs": [
    {
     "data": {
      "text/plain": [
       "Index(['Time', 'V1', 'V2', 'V3', 'V4', 'V5', 'V6', 'V7', 'V8', 'V9', 'V10',\n",
       "       'V11', 'V12', 'V13', 'V14', 'V15', 'V16', 'V17', 'V18', 'V19', 'V20',\n",
       "       'V21', 'V22', 'V23', 'V24', 'V25', 'V26', 'V27', 'V28', 'Amount'],\n",
       "      dtype='object')"
      ]
     },
     "execution_count": 6,
     "metadata": {},
     "output_type": "execute_result"
    }
   ],
   "source": [
    "numerical_cols = X.columns\n",
    "numerical_cols"
   ]
  },
  {
   "cell_type": "code",
   "execution_count": 7,
   "metadata": {},
   "outputs": [],
   "source": [
    "# since all the features are only numerical in nature creating only numerical pipeline\n",
    "from sklearn.impute import SimpleImputer ## HAndling Missing Values\n",
    "from sklearn.preprocessing import StandardScaler # HAndling Feature Scaling\n",
    "## pipelines\n",
    "from sklearn.pipeline import Pipeline\n",
    "from sklearn.compose import ColumnTransformer"
   ]
  },
  {
   "cell_type": "code",
   "execution_count": 8,
   "metadata": {},
   "outputs": [],
   "source": [
    "numerical_pipeline = Pipeline(\n",
    "    steps=[\n",
    "        ('imputer',SimpleImputer(strategy='median')),\n",
    "        ('scaler', StandardScaler())\n",
    "    ]\n",
    ")\n",
    "\n",
    "preprocessor = ColumnTransformer([\n",
    "    ('numerical_pipeline',numerical_pipeline , numerical_cols)\n",
    "])"
   ]
  },
  {
   "cell_type": "code",
   "execution_count": 9,
   "metadata": {},
   "outputs": [],
   "source": [
    "## Train test split\n",
    "\n",
    "from sklearn.model_selection import train_test_split\n",
    "\n",
    "X_train,X_test,y_train,y_test=train_test_split(X,y,test_size=0.30,random_state=30)"
   ]
  },
  {
   "cell_type": "code",
   "execution_count": 10,
   "metadata": {},
   "outputs": [],
   "source": [
    "X_train=pd.DataFrame(preprocessor.fit_transform(X_train),columns=preprocessor.get_feature_names_out())\n",
    "X_test=pd.DataFrame(preprocessor.transform(X_test),columns=preprocessor.get_feature_names_out())"
   ]
  },
  {
   "cell_type": "code",
   "execution_count": 11,
   "metadata": {},
   "outputs": [
    {
     "data": {
      "text/plain": [
       "((398041, 30), (170589, 30))"
      ]
     },
     "execution_count": 11,
     "metadata": {},
     "output_type": "execute_result"
    }
   ],
   "source": [
    "X_train.shape , X_test.shape"
   ]
  },
  {
   "cell_type": "code",
   "execution_count": 41,
   "metadata": {},
   "outputs": [],
   "source": [
    "from sklearn.linear_model import LogisticRegression\n",
    "from sklearn.linear_model import RidgeClassifier\n",
    "from sklearn.naive_bayes import BernoulliNB\n",
    "from sklearn.tree import DecisionTreeClassifier\n",
    "from sklearn.neighbors import KNeighborsClassifier\n",
    "from sklearn.ensemble import AdaBoostClassifier\n",
    "#from sklearn.ensemble import GradientBoostingClassifier\n",
    "#from sklearn.ensemble import BaggingClassifier\n",
    "#from sklearn.ensemble import RandomForestClassifier\n",
    "#from sklearn.svm import SVC\n",
    "from xgboost import XGBClassifier\n",
    "from sklearn.metrics import  accuracy_score , roc_auc_score , f1_score"
   ]
  },
  {
   "cell_type": "code",
   "execution_count": 42,
   "metadata": {},
   "outputs": [],
   "source": [
    "# a function to evaluate the model\n",
    "def evaluate_model(true, predicted):\n",
    "    accuracy = accuracy_score(true, predicted)\n",
    "    roc_score = roc_auc_score(true, predicted)\n",
    "    f_1_score = f1_score(true, predicted)\n",
    "\n",
    "    return accuracy , roc_score , f_1_score"
   ]
  },
  {
   "cell_type": "code",
   "execution_count": 43,
   "metadata": {},
   "outputs": [
    {
     "name": "stdout",
     "output_type": "stream",
     "text": [
      "LogisticRegression\n",
      "Model Training Performance\n",
      "ROC: 0.9805037229893587\n",
      "Accuracy: 0.9805204321497869\n",
      "===================================\n",
      "\n",
      "\n",
      "RidgeClassifier\n",
      "Model Training Performance\n",
      "ROC: 0.93280070681155\n",
      "Accuracy: 0.9328854732720163\n",
      "===================================\n",
      "\n",
      "\n",
      "BernoulliNB\n",
      "Model Training Performance\n",
      "ROC: 0.9198953725893483\n",
      "Accuracy: 0.9200065654878099\n",
      "===================================\n",
      "\n",
      "\n",
      "DecisionTreeClassifier\n",
      "Model Training Performance\n",
      "ROC: 0.9983886322867245\n",
      "Accuracy: 0.9983879382609664\n",
      "===================================\n",
      "\n",
      "\n",
      "KNeighborsClassifier\n",
      "Model Training Performance\n",
      "ROC: 0.9989113002352996\n",
      "Accuracy: 0.9989096600601446\n",
      "===================================\n",
      "\n",
      "\n",
      "AdaBoostClassifier\n",
      "Model Training Performance\n",
      "ROC: 0.9814312457498023\n",
      "Accuracy: 0.9814407728517079\n",
      "===================================\n",
      "\n",
      "\n",
      "XGBClassifier\n",
      "Model Training Performance\n",
      "ROC: 0.9997951018152472\n",
      "Accuracy: 0.9997948285059411\n",
      "===================================\n",
      "\n",
      "\n",
      "Best Model ('XGBClassifier', 0.9997948285059411)\n",
      "XGBClassifier(base_score=None, booster=None, callbacks=None,\n",
      "              colsample_bylevel=None, colsample_bynode=None,\n",
      "              colsample_bytree=None, early_stopping_rounds=None,\n",
      "              enable_categorical=False, eval_metric=None, feature_types=None,\n",
      "              gamma=None, gpu_id=None, grow_policy=None, importance_type=None,\n",
      "              interaction_constraints=None, learning_rate=None, max_bin=None,\n",
      "              max_cat_threshold=None, max_cat_to_onehot=None,\n",
      "              max_delta_step=None, max_depth=None, max_leaves=None,\n",
      "              min_child_weight=None, missing=nan, monotone_constraints=None,\n",
      "              n_estimators=100, n_jobs=None, num_parallel_tree=None,\n",
      "              predictor=None, random_state=None, ...)\n",
      "                   models  accuracy  roc_auc_score  f1_score\n",
      "6           XGBClassifier  0.999795       0.999795  0.999795\n",
      "4    KNeighborsClassifier  0.998910       0.998911  0.998909\n",
      "3  DecisionTreeClassifier  0.998388       0.998389  0.998386\n",
      "5      AdaBoostClassifier  0.981441       0.981431  0.981295\n",
      "0      LogisticRegression  0.980520       0.980504  0.980272\n",
      "1         RidgeClassifier  0.932885       0.932801  0.928778\n",
      "2             BernoulliNB  0.920007       0.919895  0.913503\n"
     ]
    }
   ],
   "source": [
    "models={\n",
    "    'LogisticRegression':LogisticRegression(),\n",
    "    'RidgeClassifier':RidgeClassifier(),\n",
    "    'BernoulliNB':BernoulliNB(),\n",
    "    'DecisionTreeClassifier':DecisionTreeClassifier(),\n",
    "    'KNeighborsClassifier':KNeighborsClassifier(),\n",
    "    'AdaBoostClassifier':AdaBoostClassifier(),\n",
    "    #'GradientBoostingClassifier':GradientBoostingClassifier(),\n",
    "    #'BaggingClassifier':BaggingClassifier(),\n",
    "    #'RandomForestClassifier':RandomForestClassifier(),\n",
    "    #'SVC':SVC(),\n",
    "    'XGBClassifier':XGBClassifier()\n",
    "}\n",
    "model_list=[]\n",
    "roc=[]\n",
    "acc = []\n",
    "f1 = []\n",
    "performance = []\n",
    "for i in range(len(list(models))):\n",
    "    model=list(models.values())[i]\n",
    "    model.fit(X_train,y_train)\n",
    "\n",
    "    #Make Predictions\n",
    "    y_pred=model.predict(X_test)\n",
    "\n",
    "    accuracy , roc_score  , f_1_score =evaluate_model(y_test,y_pred)\n",
    "\n",
    "    print(list(models.keys())[i])\n",
    "    model_list.append(list(models.keys())[i])\n",
    "    roc.append(roc_score)\n",
    "    acc.append(accuracy)\n",
    "    f1.append(f_1_score)\n",
    "    performance.append((list(models.keys())[i] , accuracy ))\n",
    "\n",
    "\n",
    "    print('Model Training Performance')\n",
    "    print(\"ROC:\",roc_score)\n",
    "    print(\"Accuracy:\",accuracy)\n",
    "\n",
    "    \n",
    "    print('='*35)\n",
    "    print('\\n')\n",
    "\n",
    "print(\"Best Model\" , sorted(performance , key = lambda x: x[1])[-1])\n",
    "model = models[sorted(performance , key = lambda x: x[1])[-1][0]]\n",
    "print(model)\n",
    "\n",
    "metrics = pd.DataFrame({\"models\": model_list , \"accuracy\" : acc , \"roc_auc_score\": roc , \"f1_score\" : f1}).sort_values('accuracy',ascending=False)\n",
    "print(metrics)\n"
   ]
  },
  {
   "cell_type": "code",
   "execution_count": 44,
   "metadata": {},
   "outputs": [
    {
     "data": {
      "text/html": [
       "<div>\n",
       "<style scoped>\n",
       "    .dataframe tbody tr th:only-of-type {\n",
       "        vertical-align: middle;\n",
       "    }\n",
       "\n",
       "    .dataframe tbody tr th {\n",
       "        vertical-align: top;\n",
       "    }\n",
       "\n",
       "    .dataframe thead th {\n",
       "        text-align: right;\n",
       "    }\n",
       "</style>\n",
       "<table border=\"1\" class=\"dataframe\">\n",
       "  <thead>\n",
       "    <tr style=\"text-align: right;\">\n",
       "      <th></th>\n",
       "      <th>models</th>\n",
       "      <th>accuracy</th>\n",
       "      <th>roc_auc_score</th>\n",
       "      <th>f1_score</th>\n",
       "    </tr>\n",
       "  </thead>\n",
       "  <tbody>\n",
       "    <tr>\n",
       "      <th>6</th>\n",
       "      <td>XGBClassifier</td>\n",
       "      <td>0.999795</td>\n",
       "      <td>0.999795</td>\n",
       "      <td>0.999795</td>\n",
       "    </tr>\n",
       "    <tr>\n",
       "      <th>4</th>\n",
       "      <td>KNeighborsClassifier</td>\n",
       "      <td>0.998910</td>\n",
       "      <td>0.998911</td>\n",
       "      <td>0.998909</td>\n",
       "    </tr>\n",
       "    <tr>\n",
       "      <th>3</th>\n",
       "      <td>DecisionTreeClassifier</td>\n",
       "      <td>0.998388</td>\n",
       "      <td>0.998389</td>\n",
       "      <td>0.998386</td>\n",
       "    </tr>\n",
       "    <tr>\n",
       "      <th>5</th>\n",
       "      <td>AdaBoostClassifier</td>\n",
       "      <td>0.981441</td>\n",
       "      <td>0.981431</td>\n",
       "      <td>0.981295</td>\n",
       "    </tr>\n",
       "    <tr>\n",
       "      <th>0</th>\n",
       "      <td>LogisticRegression</td>\n",
       "      <td>0.980520</td>\n",
       "      <td>0.980504</td>\n",
       "      <td>0.980272</td>\n",
       "    </tr>\n",
       "    <tr>\n",
       "      <th>1</th>\n",
       "      <td>RidgeClassifier</td>\n",
       "      <td>0.932885</td>\n",
       "      <td>0.932801</td>\n",
       "      <td>0.928778</td>\n",
       "    </tr>\n",
       "    <tr>\n",
       "      <th>2</th>\n",
       "      <td>BernoulliNB</td>\n",
       "      <td>0.920007</td>\n",
       "      <td>0.919895</td>\n",
       "      <td>0.913503</td>\n",
       "    </tr>\n",
       "  </tbody>\n",
       "</table>\n",
       "</div>"
      ],
      "text/plain": [
       "                   models  accuracy  roc_auc_score  f1_score\n",
       "6           XGBClassifier  0.999795       0.999795  0.999795\n",
       "4    KNeighborsClassifier  0.998910       0.998911  0.998909\n",
       "3  DecisionTreeClassifier  0.998388       0.998389  0.998386\n",
       "5      AdaBoostClassifier  0.981441       0.981431  0.981295\n",
       "0      LogisticRegression  0.980520       0.980504  0.980272\n",
       "1         RidgeClassifier  0.932885       0.932801  0.928778\n",
       "2             BernoulliNB  0.920007       0.919895  0.913503"
      ]
     },
     "execution_count": 44,
     "metadata": {},
     "output_type": "execute_result"
    }
   ],
   "source": [
    "metrics"
   ]
  },
  {
   "attachments": {},
   "cell_type": "markdown",
   "metadata": {},
   "source": [
    "## DEEP LEARNING WITH TF"
   ]
  },
  {
   "cell_type": "code",
   "execution_count": 12,
   "metadata": {},
   "outputs": [],
   "source": [
    "# splitting X_train to train and validation\n",
    "X_train , X_val , y_train , y_val = train_test_split(X_train,y_train,test_size=0.3,random_state=30)"
   ]
  },
  {
   "cell_type": "code",
   "execution_count": 14,
   "metadata": {},
   "outputs": [
    {
     "data": {
      "text/plain": [
       "((278628, 30), (119413, 30), (170589, 30))"
      ]
     },
     "execution_count": 14,
     "metadata": {},
     "output_type": "execute_result"
    }
   ],
   "source": [
    "X_train.shape , X_val.shape, X_test.shape"
   ]
  },
  {
   "cell_type": "code",
   "execution_count": 15,
   "metadata": {},
   "outputs": [],
   "source": [
    "# Importing Libraries\n",
    "import tensorflow as tf"
   ]
  },
  {
   "cell_type": "code",
   "execution_count": 23,
   "metadata": {},
   "outputs": [
    {
     "data": {
      "text/plain": [
       "30"
      ]
     },
     "execution_count": 23,
     "metadata": {},
     "output_type": "execute_result"
    }
   ],
   "source": [
    "X_train.iloc[0].shape[0]"
   ]
  },
  {
   "cell_type": "code",
   "execution_count": 24,
   "metadata": {},
   "outputs": [],
   "source": [
    "# Creating layers of ANN\n",
    "LAYERS = [tf.keras.layers.Flatten(input_shape=[30,], name = 'inputLayer'),\n",
    "          tf.keras.layers.Dense(300 , activation = 'relu' , name = \"hiddenLayer1\"),\n",
    "          tf.keras.layers.BatchNormalization(),\n",
    "          tf.keras.layers.Dense(100 , activation = \"relu\" , name = 'hiddenLayer2'),\n",
    "          tf.keras.layers.Dense(10, activation = \"relu\" , name = \"hiddenLayer3\"),\n",
    "          tf.keras.layers.BatchNormalization(),\n",
    "          tf.keras.layers.Dense(1, activation = \"sigmoid\" , name = \"outputLayer\")]\n",
    "model_clf = tf.keras.models.Sequential(LAYERS)"
   ]
  },
  {
   "cell_type": "code",
   "execution_count": 25,
   "metadata": {},
   "outputs": [
    {
     "data": {
      "text/plain": [
       "[<keras.layers.reshaping.flatten.Flatten at 0x237184bd6d0>,\n",
       " <keras.layers.core.dense.Dense at 0x237184bd370>,\n",
       " <keras.layers.normalization.batch_normalization.BatchNormalization at 0x237184bd430>,\n",
       " <keras.layers.core.dense.Dense at 0x237184d3c40>,\n",
       " <keras.layers.core.dense.Dense at 0x23718482880>,\n",
       " <keras.layers.normalization.batch_normalization.BatchNormalization at 0x237184d36a0>,\n",
       " <keras.layers.core.dense.Dense at 0x237184c7160>]"
      ]
     },
     "execution_count": 25,
     "metadata": {},
     "output_type": "execute_result"
    }
   ],
   "source": [
    "model_clf.layers"
   ]
  },
  {
   "cell_type": "code",
   "execution_count": 26,
   "metadata": {},
   "outputs": [
    {
     "name": "stdout",
     "output_type": "stream",
     "text": [
      "Model: \"sequential_1\"\n",
      "_________________________________________________________________\n",
      " Layer (type)                Output Shape              Param #   \n",
      "=================================================================\n",
      " inputLayer (Flatten)        (None, 30)                0         \n",
      "                                                                 \n",
      " hiddenLayer1 (Dense)        (None, 300)               9300      \n",
      "                                                                 \n",
      " batch_normalization_2 (Batc  (None, 300)              1200      \n",
      " hNormalization)                                                 \n",
      "                                                                 \n",
      " hiddenLayer2 (Dense)        (None, 100)               30100     \n",
      "                                                                 \n",
      " hiddenLayer3 (Dense)        (None, 10)                1010      \n",
      "                                                                 \n",
      " batch_normalization_3 (Batc  (None, 10)               40        \n",
      " hNormalization)                                                 \n",
      "                                                                 \n",
      " outputLayer (Dense)         (None, 1)                 11        \n",
      "                                                                 \n",
      "=================================================================\n",
      "Total params: 41,661\n",
      "Trainable params: 41,041\n",
      "Non-trainable params: 620\n",
      "_________________________________________________________________\n"
     ]
    }
   ],
   "source": [
    "model_clf.summary()"
   ]
  },
  {
   "cell_type": "code",
   "execution_count": 27,
   "metadata": {},
   "outputs": [],
   "source": [
    "LOSS_FUNCTION = \"binary_crossentropy\" # use => tf.losses.sparse_categorical_crossentropy\n",
    "OPTIMIZER = \"SGD\" # or use with custom learning rate => tf.keras.optimizers.SGD(0.02)\n",
    "METRICS = [\"accuracy\"]\n",
    "\n",
    "model_clf.compile(loss=LOSS_FUNCTION,\n",
    "                  optimizer=OPTIMIZER,\n",
    "                  metrics=METRICS)"
   ]
  },
  {
   "cell_type": "code",
   "execution_count": 29,
   "metadata": {},
   "outputs": [
    {
     "name": "stdout",
     "output_type": "stream",
     "text": [
      "Epoch 1/30\n",
      "93/93 [==============================] - 10s 113ms/step - loss: 0.0018 - accuracy: 0.9996 - val_loss: 0.0024 - val_accuracy: 0.9994\n",
      "Epoch 2/30\n",
      "93/93 [==============================] - 11s 115ms/step - loss: 0.0016 - accuracy: 0.9997 - val_loss: 0.0023 - val_accuracy: 0.9995\n",
      "Epoch 3/30\n",
      "93/93 [==============================] - 8s 87ms/step - loss: 0.0015 - accuracy: 0.9997 - val_loss: 0.0022 - val_accuracy: 0.9995\n",
      "Epoch 4/30\n",
      "93/93 [==============================] - 9s 95ms/step - loss: 0.0014 - accuracy: 0.9997 - val_loss: 0.0021 - val_accuracy: 0.9995\n",
      "Epoch 5/30\n",
      "93/93 [==============================] - 11s 123ms/step - loss: 0.0013 - accuracy: 0.9997 - val_loss: 0.0021 - val_accuracy: 0.9995\n",
      "Epoch 6/30\n",
      "93/93 [==============================] - 11s 115ms/step - loss: 0.0013 - accuracy: 0.9998 - val_loss: 0.0020 - val_accuracy: 0.9995\n",
      "Epoch 7/30\n",
      "93/93 [==============================] - 10s 112ms/step - loss: 0.0013 - accuracy: 0.9998 - val_loss: 0.0020 - val_accuracy: 0.9996\n",
      "Epoch 8/30\n",
      "93/93 [==============================] - 10s 113ms/step - loss: 0.0012 - accuracy: 0.9998 - val_loss: 0.0019 - val_accuracy: 0.9996\n",
      "Epoch 9/30\n",
      "93/93 [==============================] - 11s 124ms/step - loss: 0.0012 - accuracy: 0.9998 - val_loss: 0.0019 - val_accuracy: 0.9996\n",
      "Epoch 10/30\n",
      "93/93 [==============================] - 12s 132ms/step - loss: 0.0012 - accuracy: 0.9998 - val_loss: 0.0018 - val_accuracy: 0.9996\n",
      "Epoch 11/30\n",
      "93/93 [==============================] - 12s 131ms/step - loss: 0.0011 - accuracy: 0.9998 - val_loss: 0.0018 - val_accuracy: 0.9996\n",
      "Epoch 12/30\n",
      "93/93 [==============================] - 9s 96ms/step - loss: 0.0011 - accuracy: 0.9998 - val_loss: 0.0018 - val_accuracy: 0.9996\n",
      "Epoch 13/30\n",
      "93/93 [==============================] - 8s 89ms/step - loss: 0.0011 - accuracy: 0.9998 - val_loss: 0.0018 - val_accuracy: 0.9996\n",
      "Epoch 14/30\n",
      "93/93 [==============================] - 10s 108ms/step - loss: 0.0011 - accuracy: 0.9998 - val_loss: 0.0018 - val_accuracy: 0.9996\n",
      "Epoch 15/30\n",
      "93/93 [==============================] - 8s 88ms/step - loss: 0.0011 - accuracy: 0.9998 - val_loss: 0.0017 - val_accuracy: 0.9996\n",
      "Epoch 16/30\n",
      "93/93 [==============================] - 12s 134ms/step - loss: 0.0011 - accuracy: 0.9998 - val_loss: 0.0017 - val_accuracy: 0.9996\n",
      "Epoch 17/30\n",
      "93/93 [==============================] - 11s 123ms/step - loss: 0.0010 - accuracy: 0.9998 - val_loss: 0.0017 - val_accuracy: 0.9996\n",
      "Epoch 18/30\n",
      "93/93 [==============================] - 12s 130ms/step - loss: 0.0010 - accuracy: 0.9998 - val_loss: 0.0017 - val_accuracy: 0.9996\n",
      "Epoch 19/30\n",
      "93/93 [==============================] - 12s 130ms/step - loss: 0.0010 - accuracy: 0.9998 - val_loss: 0.0017 - val_accuracy: 0.9996\n",
      "Epoch 20/30\n",
      "93/93 [==============================] - 12s 132ms/step - loss: 9.9470e-04 - accuracy: 0.9998 - val_loss: 0.0017 - val_accuracy: 0.9996\n",
      "Epoch 21/30\n",
      "93/93 [==============================] - 13s 141ms/step - loss: 9.8860e-04 - accuracy: 0.9998 - val_loss: 0.0016 - val_accuracy: 0.9996\n",
      "Epoch 22/30\n",
      "93/93 [==============================] - 8s 89ms/step - loss: 9.7682e-04 - accuracy: 0.9998 - val_loss: 0.0016 - val_accuracy: 0.9996\n",
      "Epoch 23/30\n",
      "93/93 [==============================] - 12s 131ms/step - loss: 9.7152e-04 - accuracy: 0.9998 - val_loss: 0.0016 - val_accuracy: 0.9996\n",
      "Epoch 24/30\n",
      "93/93 [==============================] - 13s 136ms/step - loss: 9.5007e-04 - accuracy: 0.9998 - val_loss: 0.0016 - val_accuracy: 0.9996\n",
      "Epoch 25/30\n",
      "93/93 [==============================] - 9s 93ms/step - loss: 9.5051e-04 - accuracy: 0.9998 - val_loss: 0.0016 - val_accuracy: 0.9997\n",
      "Epoch 26/30\n",
      "93/93 [==============================] - 12s 133ms/step - loss: 9.3870e-04 - accuracy: 0.9999 - val_loss: 0.0016 - val_accuracy: 0.9997\n",
      "Epoch 27/30\n",
      "93/93 [==============================] - 12s 134ms/step - loss: 9.3426e-04 - accuracy: 0.9999 - val_loss: 0.0016 - val_accuracy: 0.9997\n",
      "Epoch 28/30\n",
      "93/93 [==============================] - 11s 114ms/step - loss: 9.2647e-04 - accuracy: 0.9998 - val_loss: 0.0016 - val_accuracy: 0.9997\n",
      "Epoch 29/30\n",
      "93/93 [==============================] - 12s 134ms/step - loss: 9.2389e-04 - accuracy: 0.9999 - val_loss: 0.0016 - val_accuracy: 0.9997\n",
      "Epoch 30/30\n",
      "93/93 [==============================] - 12s 129ms/step - loss: 8.9608e-04 - accuracy: 0.9999 - val_loss: 0.0016 - val_accuracy: 0.9997\n"
     ]
    }
   ],
   "source": [
    "# training\n",
    "\n",
    "EPOCHS = 30\n",
    "VALIDATION_SET = (X_val , y_val)\n",
    "\n",
    "history = model_clf.fit(X_train , y_train , epochs = EPOCHS,\n",
    "                        validation_data= VALIDATION_SET , batch_size = 3000)"
   ]
  },
  {
   "cell_type": "code",
   "execution_count": 30,
   "metadata": {},
   "outputs": [
    {
     "name": "stdout",
     "output_type": "stream",
     "text": [
      "5331/5331 [==============================] - 12s 2ms/step - loss: 0.0016 - accuracy: 0.9996\n"
     ]
    },
    {
     "data": {
      "text/plain": [
       "[0.0016471972921863198, 0.9996424317359924]"
      ]
     },
     "execution_count": 30,
     "metadata": {},
     "output_type": "execute_result"
    }
   ],
   "source": [
    "model_clf.evaluate(X_test,y_test)"
   ]
  },
  {
   "cell_type": "code",
   "execution_count": 31,
   "metadata": {},
   "outputs": [
    {
     "data": {
      "text/html": [
       "<div>\n",
       "<style scoped>\n",
       "    .dataframe tbody tr th:only-of-type {\n",
       "        vertical-align: middle;\n",
       "    }\n",
       "\n",
       "    .dataframe tbody tr th {\n",
       "        vertical-align: top;\n",
       "    }\n",
       "\n",
       "    .dataframe thead th {\n",
       "        text-align: right;\n",
       "    }\n",
       "</style>\n",
       "<table border=\"1\" class=\"dataframe\">\n",
       "  <thead>\n",
       "    <tr style=\"text-align: right;\">\n",
       "      <th></th>\n",
       "      <th>loss</th>\n",
       "      <th>accuracy</th>\n",
       "      <th>val_loss</th>\n",
       "      <th>val_accuracy</th>\n",
       "    </tr>\n",
       "  </thead>\n",
       "  <tbody>\n",
       "    <tr>\n",
       "      <th>0</th>\n",
       "      <td>0.001799</td>\n",
       "      <td>0.999573</td>\n",
       "      <td>0.002397</td>\n",
       "      <td>0.999422</td>\n",
       "    </tr>\n",
       "    <tr>\n",
       "      <th>1</th>\n",
       "      <td>0.001581</td>\n",
       "      <td>0.999659</td>\n",
       "      <td>0.002284</td>\n",
       "      <td>0.999514</td>\n",
       "    </tr>\n",
       "    <tr>\n",
       "      <th>2</th>\n",
       "      <td>0.001466</td>\n",
       "      <td>0.999691</td>\n",
       "      <td>0.002200</td>\n",
       "      <td>0.999514</td>\n",
       "    </tr>\n",
       "    <tr>\n",
       "      <th>3</th>\n",
       "      <td>0.001393</td>\n",
       "      <td>0.999713</td>\n",
       "      <td>0.002125</td>\n",
       "      <td>0.999498</td>\n",
       "    </tr>\n",
       "    <tr>\n",
       "      <th>4</th>\n",
       "      <td>0.001344</td>\n",
       "      <td>0.999731</td>\n",
       "      <td>0.002054</td>\n",
       "      <td>0.999514</td>\n",
       "    </tr>\n",
       "    <tr>\n",
       "      <th>5</th>\n",
       "      <td>0.001289</td>\n",
       "      <td>0.999752</td>\n",
       "      <td>0.001996</td>\n",
       "      <td>0.999548</td>\n",
       "    </tr>\n",
       "    <tr>\n",
       "      <th>6</th>\n",
       "      <td>0.001255</td>\n",
       "      <td>0.999756</td>\n",
       "      <td>0.001952</td>\n",
       "      <td>0.999556</td>\n",
       "    </tr>\n",
       "    <tr>\n",
       "      <th>7</th>\n",
       "      <td>0.001211</td>\n",
       "      <td>0.999777</td>\n",
       "      <td>0.001912</td>\n",
       "      <td>0.999581</td>\n",
       "    </tr>\n",
       "    <tr>\n",
       "      <th>8</th>\n",
       "      <td>0.001200</td>\n",
       "      <td>0.999767</td>\n",
       "      <td>0.001877</td>\n",
       "      <td>0.999590</td>\n",
       "    </tr>\n",
       "    <tr>\n",
       "      <th>9</th>\n",
       "      <td>0.001167</td>\n",
       "      <td>0.999792</td>\n",
       "      <td>0.001848</td>\n",
       "      <td>0.999590</td>\n",
       "    </tr>\n",
       "    <tr>\n",
       "      <th>10</th>\n",
       "      <td>0.001140</td>\n",
       "      <td>0.999795</td>\n",
       "      <td>0.001825</td>\n",
       "      <td>0.999598</td>\n",
       "    </tr>\n",
       "    <tr>\n",
       "      <th>11</th>\n",
       "      <td>0.001106</td>\n",
       "      <td>0.999799</td>\n",
       "      <td>0.001801</td>\n",
       "      <td>0.999590</td>\n",
       "    </tr>\n",
       "    <tr>\n",
       "      <th>12</th>\n",
       "      <td>0.001106</td>\n",
       "      <td>0.999799</td>\n",
       "      <td>0.001771</td>\n",
       "      <td>0.999623</td>\n",
       "    </tr>\n",
       "    <tr>\n",
       "      <th>13</th>\n",
       "      <td>0.001091</td>\n",
       "      <td>0.999799</td>\n",
       "      <td>0.001756</td>\n",
       "      <td>0.999623</td>\n",
       "    </tr>\n",
       "    <tr>\n",
       "      <th>14</th>\n",
       "      <td>0.001065</td>\n",
       "      <td>0.999817</td>\n",
       "      <td>0.001733</td>\n",
       "      <td>0.999623</td>\n",
       "    </tr>\n",
       "    <tr>\n",
       "      <th>15</th>\n",
       "      <td>0.001062</td>\n",
       "      <td>0.999813</td>\n",
       "      <td>0.001712</td>\n",
       "      <td>0.999632</td>\n",
       "    </tr>\n",
       "    <tr>\n",
       "      <th>16</th>\n",
       "      <td>0.001035</td>\n",
       "      <td>0.999824</td>\n",
       "      <td>0.001706</td>\n",
       "      <td>0.999623</td>\n",
       "    </tr>\n",
       "    <tr>\n",
       "      <th>17</th>\n",
       "      <td>0.001009</td>\n",
       "      <td>0.999824</td>\n",
       "      <td>0.001699</td>\n",
       "      <td>0.999606</td>\n",
       "    </tr>\n",
       "    <tr>\n",
       "      <th>18</th>\n",
       "      <td>0.001019</td>\n",
       "      <td>0.999828</td>\n",
       "      <td>0.001668</td>\n",
       "      <td>0.999632</td>\n",
       "    </tr>\n",
       "    <tr>\n",
       "      <th>19</th>\n",
       "      <td>0.000995</td>\n",
       "      <td>0.999831</td>\n",
       "      <td>0.001662</td>\n",
       "      <td>0.999615</td>\n",
       "    </tr>\n",
       "    <tr>\n",
       "      <th>20</th>\n",
       "      <td>0.000989</td>\n",
       "      <td>0.999831</td>\n",
       "      <td>0.001648</td>\n",
       "      <td>0.999623</td>\n",
       "    </tr>\n",
       "    <tr>\n",
       "      <th>21</th>\n",
       "      <td>0.000977</td>\n",
       "      <td>0.999842</td>\n",
       "      <td>0.001636</td>\n",
       "      <td>0.999615</td>\n",
       "    </tr>\n",
       "    <tr>\n",
       "      <th>22</th>\n",
       "      <td>0.000972</td>\n",
       "      <td>0.999831</td>\n",
       "      <td>0.001617</td>\n",
       "      <td>0.999632</td>\n",
       "    </tr>\n",
       "    <tr>\n",
       "      <th>23</th>\n",
       "      <td>0.000950</td>\n",
       "      <td>0.999838</td>\n",
       "      <td>0.001611</td>\n",
       "      <td>0.999640</td>\n",
       "    </tr>\n",
       "    <tr>\n",
       "      <th>24</th>\n",
       "      <td>0.000951</td>\n",
       "      <td>0.999838</td>\n",
       "      <td>0.001596</td>\n",
       "      <td>0.999665</td>\n",
       "    </tr>\n",
       "    <tr>\n",
       "      <th>25</th>\n",
       "      <td>0.000939</td>\n",
       "      <td>0.999853</td>\n",
       "      <td>0.001587</td>\n",
       "      <td>0.999673</td>\n",
       "    </tr>\n",
       "    <tr>\n",
       "      <th>26</th>\n",
       "      <td>0.000934</td>\n",
       "      <td>0.999853</td>\n",
       "      <td>0.001576</td>\n",
       "      <td>0.999673</td>\n",
       "    </tr>\n",
       "    <tr>\n",
       "      <th>27</th>\n",
       "      <td>0.000926</td>\n",
       "      <td>0.999846</td>\n",
       "      <td>0.001569</td>\n",
       "      <td>0.999682</td>\n",
       "    </tr>\n",
       "    <tr>\n",
       "      <th>28</th>\n",
       "      <td>0.000924</td>\n",
       "      <td>0.999856</td>\n",
       "      <td>0.001557</td>\n",
       "      <td>0.999690</td>\n",
       "    </tr>\n",
       "    <tr>\n",
       "      <th>29</th>\n",
       "      <td>0.000896</td>\n",
       "      <td>0.999860</td>\n",
       "      <td>0.001553</td>\n",
       "      <td>0.999690</td>\n",
       "    </tr>\n",
       "  </tbody>\n",
       "</table>\n",
       "</div>"
      ],
      "text/plain": [
       "        loss  accuracy  val_loss  val_accuracy\n",
       "0   0.001799  0.999573  0.002397      0.999422\n",
       "1   0.001581  0.999659  0.002284      0.999514\n",
       "2   0.001466  0.999691  0.002200      0.999514\n",
       "3   0.001393  0.999713  0.002125      0.999498\n",
       "4   0.001344  0.999731  0.002054      0.999514\n",
       "5   0.001289  0.999752  0.001996      0.999548\n",
       "6   0.001255  0.999756  0.001952      0.999556\n",
       "7   0.001211  0.999777  0.001912      0.999581\n",
       "8   0.001200  0.999767  0.001877      0.999590\n",
       "9   0.001167  0.999792  0.001848      0.999590\n",
       "10  0.001140  0.999795  0.001825      0.999598\n",
       "11  0.001106  0.999799  0.001801      0.999590\n",
       "12  0.001106  0.999799  0.001771      0.999623\n",
       "13  0.001091  0.999799  0.001756      0.999623\n",
       "14  0.001065  0.999817  0.001733      0.999623\n",
       "15  0.001062  0.999813  0.001712      0.999632\n",
       "16  0.001035  0.999824  0.001706      0.999623\n",
       "17  0.001009  0.999824  0.001699      0.999606\n",
       "18  0.001019  0.999828  0.001668      0.999632\n",
       "19  0.000995  0.999831  0.001662      0.999615\n",
       "20  0.000989  0.999831  0.001648      0.999623\n",
       "21  0.000977  0.999842  0.001636      0.999615\n",
       "22  0.000972  0.999831  0.001617      0.999632\n",
       "23  0.000950  0.999838  0.001611      0.999640\n",
       "24  0.000951  0.999838  0.001596      0.999665\n",
       "25  0.000939  0.999853  0.001587      0.999673\n",
       "26  0.000934  0.999853  0.001576      0.999673\n",
       "27  0.000926  0.999846  0.001569      0.999682\n",
       "28  0.000924  0.999856  0.001557      0.999690\n",
       "29  0.000896  0.999860  0.001553      0.999690"
      ]
     },
     "execution_count": 31,
     "metadata": {},
     "output_type": "execute_result"
    }
   ],
   "source": [
    "pd.DataFrame(history.history)"
   ]
  },
  {
   "cell_type": "code",
   "execution_count": 32,
   "metadata": {},
   "outputs": [
    {
     "data": {
      "text/plain": [
       "<Axes: >"
      ]
     },
     "execution_count": 32,
     "metadata": {},
     "output_type": "execute_result"
    },
    {
     "data": {
      "image/png": "[encoded data removed]",
      "text/plain": [
       "<Figure size 640x480 with 1 Axes>"
      ]
     },
     "metadata": {},
     "output_type": "display_data"
    }
   ],
   "source": [
    "pd.DataFrame(history.history).plot()"
   ]
  }
 ],
 "metadata": {
  "kernelspec": {
   "display_name": "Python 3",
   "language": "python",
   "name": "python3"
  },
  "language_info": {
   "codemirror_mode": {
    "name": "ipython",
    "version": 3
   },
   "file_extension": ".py",
   "mimetype": "text/x-python",
   "name": "python",
   "nbconvert_exporter": "python",
   "pygments_lexer": "ipython3",
   "version": "3.9.0"
  },
  "orig_nbformat": 4
 },
 "nbformat": 4,
 "nbformat_minor": 2
}
